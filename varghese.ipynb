{
 "cells": [
  {
   "cell_type": "markdown",
   "id": "1f4366ce-df05-41a3-b445-307e47abc0e3",
   "metadata": {},
   "source": [
    "# question 1\n",
    "\n",
    "What data type is each of the following (evaluate where necessary)?\n",
    "5 \n",
    "5.0\n",
    "5 > 1\n",
    "'5'\n",
    "5 * 2\n",
    "'5' * 2\n",
    "'5' + '2'\n",
    "5 / 2\n",
    "5 % 2\n",
    "{5, 2, 1}\n",
    "5 == 3\n",
    "Pi (the number)"
   ]
  },
  {
   "cell_type": "markdown",
   "id": "1718dd3f-2542-4c23-9543-5ccd12f7f28f",
   "metadata": {},
   "source": [
    "|Value              |Data type            |                \n",
    "| :---              |-----------------:   |           \n",
    "| 5                 |  int                | \n",
    "| 5.0               |  float              |  \n",
    "| 5 > 1             |  bool               |  \n",
    "| '5'               |  string             |  \n",
    "| 5 * 2             |  int                |   \n",
    "| '5' * 2           |  string             |  \n",
    "| '5' + '2'         |  stri               |\n",
    "| 5 / 2             |  float              |\n",
    "| 5 % 2             |  int                |\n",
    "| {5, 2, 1}         |  lis                |\n",
    "| 5 == 3            |  bool               |\n",
    "| Pi (the number)   |  float              |"
   ]
  },
  {
   "cell_type": "code",
   "execution_count": null,
   "id": "e293ecaa-4b57-4c5b-a922-17bd85d37979",
   "metadata": {},
   "outputs": [],
   "source": [
    "# question 2\n",
    "\n",
    "Write (and evaluate) python expressions that answer these questions:\n",
    "a. How many letters are there in 'Supercalifragilisticexpialidocious'?\n",
    "b. Does 'Supercalifragilisticexpialidocious' contain 'ice' as a substring?\n",
    "c. Which of the following words is the longest:  \n",
    "Supercalifragilisticexpialidocious, Honorificabilitudinitatibus, or \n",
    "Bababadalgharaghtakamminarronnkonn? \n",
    "d. Which composer comes first in the dictionary: 'Berlioz', 'Borodin', 'Brian', \n",
    "'Bartok', 'Bellini', 'Buxtehude', 'Bernstein'. Which one comes last?"
   ]
  },
  {
   "cell_type": "code",
   "execution_count": 60,
   "id": "258bcbb0-545f-4491-9fd1-06c028c094f4",
   "metadata": {},
   "outputs": [
    {
     "name": "stdout",
     "output_type": "stream",
     "text": [
      "34\n",
      "true\n",
      "Supercalifragilisticexpialidocious\n",
      "First composer in the list: Bartok\n",
      "Last composer in the list: Buxtehude\n"
     ]
    }
   ],
   "source": [
    "# a.to find the length of \"Supercalifragilisticexpialidocious\"\n",
    "length=len('Supercalifragilisticexpialidocious')\n",
    "print(length)\n",
    "# b.to find  \"ice\" a Substring of \"Supercalifragilisticexpialidocious\"\n",
    "if ('ice' in \"Supercalifragilisticexpialidocious\"):\n",
    "    print('true')\n",
    "else:\n",
    "    print('false')\n",
    "# c.to find the longest word\n",
    "listOfWords = [\"Supercalifragilisticexpialidocious\", \"Honorificabilitudinitatibus\", \"Bababadalgharaghtakamminarronnkonn\"]\n",
    "longestWord = listOfWords[0]\n",
    "for word in listOfWords:\n",
    "    if len(word) > len(longestWord):\n",
    "        longestWord = word\n",
    "print(longestWord)\n",
    "\n",
    "# d.  List of famous composers\n",
    "composers = ['Berlioz', 'Borodin', 'Brian', 'Bartok', 'Bellini', 'Buxtehude', 'Bernstein']\n",
    "\n",
    "# Bubble sort algorithm implementation\n",
    "def sort_composers(arr):\n",
    "    length = len(arr)\n",
    "    for outer_index in range(length):\n",
    "        for inner_index in range(0, length-outer_index-1):\n",
    "            if arr[inner_index] > arr[inner_index+1]:\n",
    "                arr[inner_index], arr[inner_index+1] = arr[inner_index+1], arr[inner_index]\n",
    "    return arr\n",
    "\n",
    "# Sort the composers list alphabetically\n",
    "sorted_composers = sort_composers(composers)\n",
    "\n",
    "# Identify the first and last composer in the sorted list\n",
    "first_composer = sorted_composers[0]\n",
    "last_composer = sorted_composers[-1]\n",
    "\n",
    "# Display the results\n",
    "print(\"First composer in the list:\", first_composer)\n",
    "print(\"Last composer in the list:\", last_composer)\n",
    "    "
   ]
  },
  {
   "cell_type": "code",
   "execution_count": null,
   "id": "926487d1-5ade-41b2-bef6-5289735c86d5",
   "metadata": {},
   "outputs": [],
   "source": [
    "# question 3\n",
    "Implement function triangleArea(a,b,c) that takes as input the lengths of the 3\n",
    "sides of a triangle and returns the area of the triangle. By Heron's formula, the area \n",
    "of a triangle with side lengths a, b, and c is\n",
    "s(s - a)(s -b)(s -c)\n",
    ", where \n",
    "s = (a+b+c)/2. \n",
    ">>> triangleArea(2,2,2)\n",
    "1.7320508075688772"
   ]
  },
  {
   "cell_type": "code",
   "execution_count": 85,
   "id": "416d35e0-bf0c-41ba-80c6-ba10b6f4957e",
   "metadata": {},
   "outputs": [
    {
     "name": "stdin",
     "output_type": "stream",
     "text": [
      "length of side a:  2\n",
      "length of side b:  2\n",
      "length of side c:  2\n"
     ]
    },
    {
     "data": {
      "text/plain": [
       "1.7320508075688772"
      ]
     },
     "execution_count": 85,
     "metadata": {},
     "output_type": "execute_result"
    }
   ],
   "source": [
    "# calculation\n",
    "\n",
    "import math\n",
    "\n",
    "def triangleArea():\n",
    " # Input the lengths of the sides of the triangle\n",
    "    a = float(input(\"length of side a: \"))\n",
    "    b = float(input(\"length of side b: \"))\n",
    "    c = float(input(\"length of side c: \"))\n",
    "    \n",
    "    # Calculate the semi-perimeter\n",
    "    s = (a + b + c) / 2\n",
    "    \n",
    "    # Apply Heron's formula to calculate the area\n",
    "    area = math.sqrt(s * (s - a) * (s - b) * (s - c))\n",
    "    \n",
    "    return area\n",
    "triangleArea() \n",
    "\n",
    "    \n",
    " \n"
   ]
  },
  {
   "cell_type": "code",
   "execution_count": null,
   "id": "42f63d19-1bbc-4f4b-8f71-5888248a691e",
   "metadata": {},
   "outputs": [],
   "source": [
    "# question 4\n",
    "Write a program in python to separate odd and even integers in separate arrays. Go \n",
    "to the editor\n",
    "Test Data :\n",
    "Input the number of elements to be stored in the array :5\n",
    "Input 5 elements in the array :\n",
    "element - 0 : 25\n",
    "element - 1 : 47\n",
    "element - 2 : 42\n",
    "element - 3 : 56\n",
    "element - 4 : 32\n",
    "Expected Output:\n",
    "The Even elements are:\n",
    "42 56 32\n",
    "The Odd elements are :\n",
    "25 47\n"
   ]
  },
  {
   "cell_type": "code",
   "execution_count": 89,
   "id": "0ace787e-1947-4d7e-bff5-d14f46fb23a9",
   "metadata": {},
   "outputs": [
    {
     "name": "stdin",
     "output_type": "stream",
     "text": [
      "Input the number of elements to be stored in the array:  5\n",
      "element - 0 :  42\n",
      "element - 1 :  56\n",
      "element - 2 :  32\n",
      "element - 3 :  25\n",
      "element - 4 :  47\n"
     ]
    },
    {
     "name": "stdout",
     "output_type": "stream",
     "text": [
      "\n",
      "The Even elements are:\n",
      "42 56 32 \n",
      "\n",
      "The Odd elements are:\n",
      "25 47 "
     ]
    }
   ],
   "source": [
    "# separate even and odd numbers into various lists\n",
    "def separateEvenAndOddNumbers():\n",
    "    # Input the number of elements to be stored in the array\n",
    "    num_elements = int(input(\"Input the number of elements to be stored in the array: \"))\n",
    "    \n",
    "    # Initialize the list to store the elements\n",
    "    elements = []\n",
    "    \n",
    "    # Input the elements in the array\n",
    "    for i in range(num_elements):\n",
    "        element = int(input(f\"element - {i} : \"))\n",
    "        elements.append(element)\n",
    "    \n",
    "    # Initialize lists for even and odd numbers\n",
    "    even_numbers = []\n",
    "    odd_numbers = []\n",
    "    \n",
    "    # Separate the elements into even and odd lists\n",
    "    for element in elements:\n",
    "        if element % 2 == 0:\n",
    "            even_numbers.append(element)\n",
    "        else:\n",
    "            odd_numbers.append(element)\n",
    "    \n",
    "    # Output the even and odd numbers\n",
    "    print(\"\\nThe Even elements are:\")\n",
    "    for even in even_numbers:\n",
    "        print(even, end=' ')\n",
    "    \n",
    "    print(\"\\n\\nThe Odd elements are:\")\n",
    "    for odd in odd_numbers:\n",
    "        print(odd, end=' ')\n",
    "\n",
    "# Call the function to separate even and odd numbers\n",
    "separateEvenAndOddNumbers()"
   ]
  },
  {
   "cell_type": "code",
   "execution_count": null,
   "id": "d67a61a4-7af0-4df6-b8b5-e443a5617bc4",
   "metadata": {},
   "outputs": [],
   "source": [
    "# question 5\n",
    "a. Write a function inside(x,y,x1,y1,x2,y2) that returns True or False \n",
    "depending on whether the point (x,y) lies in the rectangle with lower left \n",
    "corner (x1,y1) and upper right corner (x2,y2).\n",
    ">>> inside(1,1,0,0,2,3)\n",
    "True\n",
    ">>> inside(-1,-1,0,0,2,3)\n",
    "False\n",
    "b. Use function inside() from part a. to write an expression that tests whether \n",
    "the point (1,1) lies in both of the following rectangles: one with lower left \n",
    "corner (0.3, 0.5) and upper right corner (1.1, 0.7) and the other with lower \n",
    "left corner (0.5, 0.2) and upper right corner (1.1, 2)."
   ]
  },
  {
   "cell_type": "code",
   "execution_count": 34,
   "id": "c9498dd2-c712-4137-8fdc-16e878e89d8e",
   "metadata": {},
   "outputs": [
    {
     "name": "stdin",
     "output_type": "stream",
     "text": [
      "Enter the x-coordinate of the point:  1\n",
      "Enter the y-coordinate of the point:  1\n",
      "Enter the x-coordinate of the lower-left corner of the rectangle:  0\n",
      "Enter the y-coordinate of the lower-left corner of the rectangle:  0\n",
      "Enter the x-coordinate of the upper-right corner of the rectangle:  2\n",
      "Enter the y-coordinate of the upper-right corner of the rectangle:  3\n"
     ]
    },
    {
     "name": "stdout",
     "output_type": "stream",
     "text": [
      "true\n",
      "False\n"
     ]
    }
   ],
   "source": [
    "# a write a function\n",
    "def inside(x, y, x1, y1, x2, y2):\n",
    "    return x1 <= x <= x2 and y1 <= y <= y2\n",
    "\n",
    "# Get user input for the point coordinates\n",
    "x = float(input(\"Enter the x-coordinate of the point: \"))\n",
    "y = float(input(\"Enter the y-coordinate of the point: \"))\n",
    "\n",
    "# Get user input for the rectangle corners\n",
    "x1 = float(input(\"Enter the x-coordinate of the lower-left corner of the rectangle: \"))\n",
    "y1 = float(input(\"Enter the y-coordinate of the lower-left corner of the rectangle: \"))\n",
    "x2 = float(input(\"Enter the x-coordinate of the upper-right corner of the rectangle: \"))\n",
    "y2 = float(input(\"Enter the y-coordinate of the upper-right corner of the rectangle: \"))\n",
    "\n",
    "# Check if the point is inside the rectangle\n",
    "if inside(x, y, x1, y1, x2, y2):\n",
    "    print('true')\n",
    "else:\n",
    "    print('false')\n",
    "\n",
    "# b. Using the inside() function to test if the point (1, 1) lies in both rectangles:\n",
    "\n",
    "# Testing if point (1,1) lies in both rectangles\n",
    "rect1 = inside(1, 1, 0.3, 0.5, 1.1, 0.7)\n",
    "rect2 = inside(1, 1, 0.5, 0.2, 1.1, 2)\n",
    "\n",
    "# Check if the point (1,1) is inside both rectangles\n",
    "in_both_rectangles = rect1 and rect2\n",
    "\n",
    "print(in_both_rectangles)"
   ]
  },
  {
   "cell_type": "code",
   "execution_count": null,
   "id": "f2ba3f6b-7df4-4b2c-a13d-e8c3e55edb31",
   "metadata": {},
   "outputs": [],
   "source": [
    "# question 6\n",
    " You can turn a word into pig-Latin using the following two rules (simplified):\n",
    "• If the word starts with a consonant, move that letter to the end and append\n",
    "'ay'. For example, 'happy' becomes 'appyhay' and 'pencil' becomes 'encilpay'.\n",
    "• If the word starts with a vowel, simply append 'way' to the end of the word.\n",
    "For example, 'enter' becomes 'enterway' and 'other' becomes 'otherway' . For\n",
    "our purposes, there are 5 vowels: a, e, i, o, u (so we count y as a consonant).\n",
    "Write a function pig() that takes a word (i.e., a string) as input and returns its pig-\n",
    "Latin form. Your function should still work if the input word contains upper case\n",
    "characters. Your output should always be lower case however.\n",
    ">>> pig('happy')\n",
    "'appyhay'\n",
    ">>> pig('Enter')\n",
    "'enterway'"
   ]
  },
  {
   "cell_type": "code",
   "execution_count": 1,
   "id": "31e1d85a-c1bb-42aa-bf3d-6a30d059f0d1",
   "metadata": {},
   "outputs": [
    {
     "name": "stdout",
     "output_type": "stream",
     "text": [
      "appyhay\n",
      "enterway\n"
     ]
    }
   ],
   "source": [
    "def pig(input_word):\n",
    "    # Convert the input_word to lowercase\n",
    "    input_word = input_word.lower()\n",
    "    \n",
    "    # Define the vowels\n",
    "    vowels = 'aeiou'\n",
    "    \n",
    "    # Check if the first letter is a vowel\n",
    "    if input_word[0] in vowels:\n",
    "        pig_word = input_word + 'way'\n",
    "    else:\n",
    "        # Move the first consonant to the end and add 'ay'\n",
    "        pig_word = input_word[1:] + input_word[0] + 'ay'\n",
    "    \n",
    "    return pig_word\n",
    "\n",
    "# Example usage\n",
    "happy = pig('happy')  # 'appyhay'\n",
    "enter = pig('Enter')  # 'enterway'\n",
    "\n",
    "# Print the results\n",
    "print(happy)  # Output: 'appyhay'\n",
    "print(enter)  # Output: 'enterway'\n"
   ]
  },
  {
   "cell_type": "code",
   "execution_count": null,
   "id": "a62e97e9-bf22-43c6-87b7-fde5ac18c72c",
   "metadata": {},
   "outputs": [],
   "source": [
    "# question 7\n",
    "File bloodtype1.txt records blood-types of patients (A, B, AB, O or OO) at a clinic.\n",
    "Write a function bldcount() that reads the file with name name and reports (i.e.,\n",
    "prints) how many patients there are in each bloodtype.\n",
    ">>> bldcount('bloodtype.txt')\n",
    "There are 10 patients of blood type A.\n",
    "There is one patient of blood type B.\n",
    "There are 10 patients of blood type AB.\n",
    "There are 12 patients of blood type O.\n",
    "There are no patients of blood type OO."
   ]
  },
  {
   "cell_type": "code",
   "execution_count": 17,
   "id": "95bc7e8a-6b1e-45f5-a19a-5e3fc148a06a",
   "metadata": {},
   "outputs": [
    {
     "name": "stdout",
     "output_type": "stream",
     "text": [
      "There are 15 patients of blood type A\n",
      "There is one patient of blood type B\n",
      "There are 13 patients of blood type AB\n",
      "There are 15 patients of blood type O\n",
      "There are no patients of blood type OO\n"
     ]
    }
   ],
   "source": [
    "def bldcount(file_name):\n",
    "    blood_type_counts = {'A': 0, 'B': 0, 'AB': 0, 'O': 0, 'OO': 0}   \n",
    "# Dictionary to store blood type counts\n",
    "    with open(file_name, 'r') as file:  # Open and read the file\n",
    "        blood_data = file.read().split()  \n",
    "# Read the contents and split the data into types of blood\n",
    "    for blood_type in blood_data: \n",
    "# Count the occurrences of blood types\n",
    "        if blood_type in blood_type_counts:\n",
    "            blood_type_counts[blood_type] += 1\n",
    "    \n",
    "    for blood_type, count in blood_type_counts.items():  \n",
    "# Print the results\n",
    "        if count == 0:\n",
    "            print(f\"There are no patients of blood type {blood_type}\")\n",
    "        elif count == 1:\n",
    "            print(f\"There is one patient of blood type {blood_type}\")\n",
    "        else:\n",
    "            print(f\"There are {count} patients of blood type {blood_type}\")\n",
    "\n",
    "bldcount('bloodtype1.txt')"
   ]
  },
  {
   "cell_type": "code",
   "execution_count": null,
   "id": "7f6060bb-d447-4e9a-bee3-f7f98153e1fd",
   "metadata": {},
   "outputs": [],
   "source": [
    "# question 8\n",
    "Write a function curconv() that takes as input:\n",
    "1. a currency represented using a string (e.g., 'JPY' for the Japanese Yen or\n",
    "'EUR' for the Euro)\n",
    "2. an amount\n",
    "and then converts and returns the amount in US dollars.\n",
    ">>> curconv('EUR', 100)\n",
    "122.96544\n",
    ">>> curconv('JPY', 100)\n",
    "1.241401\n"
   ]
  },
  {
   "cell_type": "code",
   "execution_count": 19,
   "id": "4fe3f0d9-86fe-448c-aab8-15028f59d63a",
   "metadata": {},
   "outputs": [
    {
     "name": "stdout",
     "output_type": "stream",
     "text": [
      "122.96544\n",
      "1.241401\n"
     ]
    }
   ],
   "source": [
    "def curconv(currency_code, amount):\n",
    "    with open('currencies.txt', 'r') as file:  # Open and read the file\n",
    "        for line in file:\n",
    "            currency_data = line.split()\n",
    "            if currency_data[0] == currency_code:\n",
    "                exchange_rate = float(currency_data[1])\n",
    "                return amount * exchange_rate\n",
    "    \n",
    "    return \"Currency not found\"\n",
    "\n",
    "print(curconv('EUR', 100))  # Output: 122.96544\n",
    "print(curconv('JPY', 100))  # Output: 1.241401"
   ]
  },
  {
   "cell_type": "code",
   "execution_count": null,
   "id": "77993eed-1089-4bee-b97d-21aaa2aad3a2",
   "metadata": {},
   "outputs": [],
   "source": [
    "# question 9\n",
    "Each of the following will cause an exception (an error). Identify what type of\n",
    "exception each will cause.\n",
    "Trying to add incompatible variables, as in\n",
    "adding 6 + ‘a’\n",
    "Referring to the 12th item of a list that has only 10\n",
    "items\n",
    "Using a value that is out of range for a function’s\n",
    "input, such as calling math.sqrt(-1.0)\n",
    "Using an undeclared variable, such as print(x)\n",
    "when x has not been defined\n",
    "Trying to open a file that does not exist, such as\n",
    "mistyping the file name or looking in the wrong\n",
    "directory."
   ]
  },
  {
   "cell_type": "markdown",
   "id": "7de09074-25b5-4ff9-85c1-f710a2bf585a",
   "metadata": {},
   "source": [
    " solution: Trying to add incompatible variables, as in adding 6 + ‘a’   -  TypeError\n",
    "\n",
    "Referring to the 12th item of a list that has only 10 items  -  IndexError\n",
    "\n",
    "Using a value that is out of range for a function’s input, such as calling math.sqrt( 1.0)  - ValueError\n",
    "\n",
    "Using an undeclared variable, such as print(x) when x has not been defined  - NameError\n",
    "\n",
    "Trying to open a file that does not exist, such as mistyping the file name or looking in the wrong directory  -  FileNotFoundError\n"
   ]
  },
  {
   "cell_type": "code",
   "execution_count": null,
   "id": "9bdca630-e8d2-4983-84b6-4cb901f28cda",
   "metadata": {},
   "outputs": [],
   "source": [
    "# question 10\n",
    "Encryption is the process of hiding the meaning of a text by substituting letters in the\n",
    "message with other letters, according to some system. If the process is successful, no\n",
    "one but the intended recipient can understand the encrypted message. Cryptanalysis\n",
    "refers to attempts to undo the encryption, even if some details of the encryption are\n",
    "unknown (for example, if an encrypted message has been intercepted). The first step\n",
    "of cryptanalysis is often to build up a table of letter frequencies in the encrypted text.\n",
    "Assume that the string letters is already defined as\n",
    "'abcdefghijklmnopqrstuvwxyz'. Write a function called frequencies()\n",
    "that takes a string as its only parameter, and returns a list of integers, showing the\n",
    "number of times each character appears in the text. Your function may ignore any\n",
    "characters that are not in letters.\n",
    ">>> frequencies('The quick red fox got bored and went home.')\n",
    "[1, 1, 1, 3, 5, 1, 1, 2, 1, 0, 1, 0, 1, 2, 4, 0, 1, 2, 0, 2,\n",
    "1, 0, 1, 1, 0, 0]\n",
    ">>> frequencies('apple')"
   ]
  },
  {
   "cell_type": "code",
   "execution_count": 32,
   "id": "3e7693da-2d69-4d39-9915-ae242592e6e5",
   "metadata": {},
   "outputs": [
    {
     "name": "stdin",
     "output_type": "stream",
     "text": [
      "Enter your text:  apple\n"
     ]
    },
    {
     "name": "stdout",
     "output_type": "stream",
     "text": [
      "[1, 0, 0, 0, 1, 0, 0, 0, 0, 0, 0, 1, 0, 0, 0, 2, 0, 0, 0, 0, 0, 0, 0, 0, 0, 0]\n"
     ]
    }
   ],
   "source": [
    "def frequencies(input_text):\n",
    "    # Define the alphabet\n",
    "    alphabet = 'abcdefghijklmnopqrstuvwxyz'\n",
    "    \n",
    "    # Initialize a list of zeros with the same length as the alphabet\n",
    "    frequency_list = [0] * len(alphabet)\n",
    "    \n",
    "    # Convert the text to lowercase to make the count case-insensitive\n",
    "    input_text = input_text.lower()\n",
    "    \n",
    "    # Loop through each character in the text\n",
    "    for character in input_text:\n",
    "        if character in alphabet:\n",
    "            # Find the index of the character in the alphabet and increment its count\n",
    "            index = alphabet.index(character)\n",
    "            frequency_list[index] += 1\n",
    "    \n",
    "    return frequency_list\n",
    "\n",
    "user_input = input(\"Enter your text: \")\n",
    "print(frequencies(user_input))\n"
   ]
  },
  {
   "cell_type": "code",
   "execution_count": null,
   "id": "03092902-172c-463d-b535-f9b3d5d1f545",
   "metadata": {},
   "outputs": [],
   "source": []
  }
 ],
 "metadata": {
  "kernelspec": {
   "display_name": "Python 3 (ipykernel)",
   "language": "python",
   "name": "python3"
  },
  "language_info": {
   "codemirror_mode": {
    "name": "ipython",
    "version": 3
   },
   "file_extension": ".py",
   "mimetype": "text/x-python",
   "name": "python",
   "nbconvert_exporter": "python",
   "pygments_lexer": "ipython3",
   "version": "3.12.4"
  }
 },
 "nbformat": 4,
 "nbformat_minor": 5
}
